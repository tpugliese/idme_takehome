{
 "cells": [
  {
   "cell_type": "markdown",
   "id": "5a9e5082",
   "metadata": {},
   "source": [
    "# Overview\n",
    "\n",
    "This document is to capture my steps in this assignment, reflect on the journey, and propose changes that would improve the experience forward for future interviewees.\n",
    "\n",
    "Overall, I had a very positive response and view of this assignment.  I felt engaged and inspired to go above and beyond a usual effort to demonstrate this passion while also producing a professional example of the work I know I am capable of as an experienced Analytics Engineer.\n",
    "\n",
    "\n",
    "## Why do this?\n",
    "\n",
    "Most technical interviews in the current environment rarely offer a chance for reflection or improvement.  I dedicated most of a weekend to complete this assessment and I wish to capture my experience.  I enjoyed having an excuse to dust off my table creation skills while providing a showcase of technical work that I could use as a portfolio example.\n",
    "\n",
    "\n",
    "## Approach to the Project\n",
    "\n",
    "I am a firm believer that technical SQL tests are important to the interview process but rarely allow candidates to be creative, expressive, or meticulous in their responses.  Often they are a timesink, over-engineered, or incomprehensible.  I work much better when I can physically interact with the underlying data, test my hypothesis, and iterate my queries.\n",
    "\n",
    "Often these tests don't have the resources or overhead to dedicate an IDE or `.sql` script to enable interviewees to interact with sample schemas.  In this instance, the intentionally flawed schema and open ended questions allowed me to thoughtfully construct a set of responses to demonstrate the breadth of my problem solving capabilities.\n",
    "\n",
    "Personally, it wasn't enough to just write a \"better\" set of tables without being able to demonstrably display a more cohesive database structure.  Fortunately, a PostgreSQL server is simple to set up, and Python favorably interacts with PostgreSQL when everything is local and the right packages are utilized.\n",
    "\n",
    "For reasons already stated in the overview, Jupyter Notebooks are a comfortable publishing tool and I knew it would do a great job of showcasing technical ingenuity, markdown formatting, and a cohesive structure to display my thoughts.  Once I had a satisfactory connection with a local PostgreSQL instance, and a Jupyter Notebook up and running, I knew hosting the project over GitHub would allow me to fully express my response professionally.\n",
    "\n",
    "I am much more familiar with local Apple OS development, so recreating a development framework on my personal Windows machine was a bit of a challenge, but one I did relish.  Utilizing open-source programs and Anaconda's package management, I hope this helps my work stand out from the competition.  I am very pleased with the results, though I expect it might be difficult for reviewers to recreate my exact process.\n",
    "\n",
    "\n",
    "## Key Takeaways\n",
    "\n",
    "What I enjoyed most about this assignment was being able to creatively solve the problems set out from the prompt while also being able to espouse my values on scalable database design as it relates to Analytics Engineering.  I felt empowered to thoroughly communicate my responses and speak to the underlying problems presented.  \n",
    "\n",
    "I think proposing sequential questions of connected issues is a valuable way to learn how a developer aproaches problems, iterates on ideas, and presents solutions.\n",
    "\n",
    "However, my main frustrations exist with Question 3 regarding the request from the Customer Service team.  It's unclear to me if this is meant to capture the ambiguity and uncertainty of how some non-technical stakeholders can approach dashboard design.  Or if it's meant to speak to the difficulty in prioritization in data requests when receiving overlapping, incongruent requests for data that occurs from stakeholder misalignment.\n",
    "\n",
    "If followed literally, the proposed question will return an empty set of results to the question.  Not only are there not ten discrete customer accounts given but no example customer account _has an active developer license_ **and** _a recorded customer interaction_.  The respondent is meant to extrapolate that there are possibly _many_ of these interactions or enough to warrant an intra-month ranking. But to have the result of the question be many lines of SQL that lead to an empty set is an unfulfilling result to both the interviewee and the imaginary stakeholder.\n",
    "\n",
    "Secondly, the request from the stakeholders requires ranking, dimensional attribution in breakdowns, and aggregation **all in the same** model.  This multi-factor demand is not uncommon among stakeholders that envision a \"holy grail\" dataset that can incorporate all of these items, scale indefinitely, and also retain individual row granularity.  Often these requests lead to \"slow loading visualizations\" that are precisely a symptom of Question 2's problem.  Individually, these items are not unreasonable.  However, it is the desire to continually run a dataset that ranks, joins, self-joins, and aggregates that puts stress on troubleshooting, performance, and optimizations for the Analytics Engineering team.  \n",
    "\n",
    "It's not unreasonable to want to know which Customers create the most interactions, which Sales Reps close the most interactions, or the number of interactions per channel.  It is all of these requests together, in the same dataset, while also including an arbitrary ranking in the table.  I sympathize with the artificial nature of this request that could be tailored to stress the SQL ability of the respondent, but if that is the case, I propose providing a data set where the results are achievable and not hypothetical.\n",
    "\n",
    "It is ambiguous in my interpreation of the question if it demanded a single \"query\" as opposed to Question 2's \"queries\" but I did it in a single query anyway.\n",
    "\n",
    "\n",
    "## End Result of Assignment\n",
    "\n",
    "I ended up being very motivated and engaged to provide a clean, multi-system response to this assignment and valued the energy it brought out in me.  I'm proud to have built a local database, orchestrated connections with a notebook, and comprehensively outlined my opinions in this manner.\n",
    "\n",
    "I appreciate the creative license to approach these questions and hope that my meticulous response is appreciated.\n",
    "\n",
    "I look forward to reviewing this approach and continuing this level of professional output on my career journey.\n",
    "\n",
    "Thank you for the opportunity.\n",
    "\n",
    "Tyler Pugliese\n"
   ]
  },
  {
   "cell_type": "code",
   "execution_count": null,
   "id": "1abf8122",
   "metadata": {},
   "outputs": [],
   "source": []
  },
  {
   "cell_type": "code",
   "execution_count": null,
   "id": "533c447a",
   "metadata": {},
   "outputs": [],
   "source": []
  }
 ],
 "metadata": {
  "kernelspec": {
   "display_name": "Python 3 (ipykernel)",
   "language": "python",
   "name": "python3"
  },
  "language_info": {
   "codemirror_mode": {
    "name": "ipython",
    "version": 3
   },
   "file_extension": ".py",
   "mimetype": "text/x-python",
   "name": "python",
   "nbconvert_exporter": "python",
   "pygments_lexer": "ipython3",
   "version": "3.11.5"
  }
 },
 "nbformat": 4,
 "nbformat_minor": 5
}
