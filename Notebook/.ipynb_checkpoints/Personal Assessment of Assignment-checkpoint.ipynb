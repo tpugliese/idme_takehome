{
 "cells": [
  {
   "cell_type": "markdown",
   "id": "7aab6f2f",
   "metadata": {},
   "source": [
    "# Overview\n",
    "\n",
    "This document is to capture my steps to this assignment, reflect on the journey and propose changes that would improve the experience forward for future interviewees.\n",
    "\n",
    "Overall, I had a very positive response and view of this assignment.  I felt engaged and inspired to go above and beyond a usual effort to demonstrate this passion while also producing a professional example of the work I know I am capable of.\n",
    "\n",
    "I appreciate the prompt and any critiques or comment on the process from outsiders.\n",
    "\n",
    "## Why do this?\n",
    "\n",
    "Lorem Ipsum.\n",
    "\n",
    "## Approach to the Project\n",
    "\n",
    "Lorem Ipsum.\n",
    "\n",
    "## SQL Evaluations in the Job Market\n",
    "\n",
    "Lorem Ipsum.\n",
    "\n",
    "## Key Takeaways\n",
    "\n",
    "Lorem Ipsum.\n",
    "\n",
    "## Future Steps\n",
    "\n",
    "Lorem Ipsum.\n",
    "\n",
    "## Feedback for Hiring Staff\n",
    "\n",
    "Lorem Ipsum.\n",
    "\n",
    "## End Result of Assignment\n",
    "\n",
    "TBD."
   ]
  }
 ],
 "metadata": {
  "kernelspec": {
   "display_name": "Python 3 (ipykernel)",
   "language": "python",
   "name": "python3"
  },
  "language_info": {
   "codemirror_mode": {
    "name": "ipython",
    "version": 3
   },
   "file_extension": ".py",
   "mimetype": "text/x-python",
   "name": "python",
   "nbconvert_exporter": "python",
   "pygments_lexer": "ipython3",
   "version": "3.11.5"
  }
 },
 "nbformat": 4,
 "nbformat_minor": 5
}
