{
 "cells": [
  {
   "cell_type": "markdown",
   "id": "97f6c967",
   "metadata": {},
   "source": [
    "# Technical Takehome for ID.Me\n",
    "\n",
    "Words Words\n",
    "\n"
   ]
  },
  {
   "cell_type": "code",
   "execution_count": null,
   "id": "30eca5af",
   "metadata": {},
   "outputs": [],
   "source": [
    "#technical use for packages"
   ]
  },
  {
   "cell_type": "code",
   "execution_count": null,
   "id": "1bfe3500",
   "metadata": {},
   "outputs": [],
   "source": [
    "# Photos of Pre-Schema\n"
   ]
  },
  {
   "cell_type": "markdown",
   "id": "31837d37",
   "metadata": {},
   "source": [
    "## Question 1:\n"
   ]
  },
  {
   "cell_type": "markdown",
   "id": "515ad686",
   "metadata": {},
   "source": [
    "## Question 2:\n"
   ]
  },
  {
   "cell_type": "code",
   "execution_count": null,
   "id": "3e19a374",
   "metadata": {},
   "outputs": [],
   "source": []
  }
 ],
 "metadata": {
  "kernelspec": {
   "display_name": "Python 3 (ipykernel)",
   "language": "python",
   "name": "python3"
  },
  "language_info": {
   "codemirror_mode": {
    "name": "ipython",
    "version": 3
   },
   "file_extension": ".py",
   "mimetype": "text/x-python",
   "name": "python",
   "nbconvert_exporter": "python",
   "pygments_lexer": "ipython3",
   "version": "3.11.5"
  }
 },
 "nbformat": 4,
 "nbformat_minor": 5
}
